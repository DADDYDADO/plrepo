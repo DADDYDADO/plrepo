{
 "cells": [
  {
   "cell_type": "code",
   "execution_count": 1,
   "id": "3bb1c8e2",
   "metadata": {},
   "outputs": [],
   "source": [
    "#request送請求\n",
    "#sleep是為了不佔用，避免網址ip被阻擋\n",
    "import requests\n",
    "import json\n",
    "import time\n",
    "from time import sleep\n",
    "import pandas as pd"
   ]
  },
  {
   "cell_type": "code",
   "execution_count": 2,
   "id": "e297e423",
   "metadata": {},
   "outputs": [],
   "source": [
    "#裁判家網址：https://www.lawplus.com.tw/\n",
    "#關鍵字：全文搜索：(發明專利無效)+二審判決\n",
    "#URL:https://www.lawplus.com.tw/#/searchReport?query=%25E7%2599%25BC%25E6%2598%258E%25E5%25B0%2588%25E5%2588%25A9%25E7%2584%25A1%25E6%2595%2588&levels=2&litiga"
   ]
  },
  {
   "cell_type": "code",
   "execution_count": 3,
   "id": "f5db23ea",
   "metadata": {},
   "outputs": [
    {
     "data": {
      "text/plain": [
       "'https://www.lawplus.com.tw/rest/search/report?querySentence=%E7%99%BC%E6%98%8E%E5%B0%88%E5%88%A9%E7%84%A1%E6%95%88'"
      ]
     },
     "execution_count": 3,
     "metadata": {},
     "output_type": "execute_result"
    }
   ],
   "source": [
    "urlfirst=\"https://www.lawplus.com.tw/rest/search/report?querySentence=%E7%99%BC%E6%98%8E%E5%B0%88%E5%88%A9%E7%84%A1%E6%95%88\"\n",
    "urlfirst"
   ]
  },
  {
   "cell_type": "code",
   "execution_count": 6,
   "id": "36d59116",
   "metadata": {},
   "outputs": [
    {
     "name": "stderr",
     "output_type": "stream",
     "text": [
      "C:\\Users\\User\\anaconda3\\lib\\site-packages\\urllib3\\connectionpool.py:1045: InsecureRequestWarning: Unverified HTTPS request is being made to host 'www.lawplus.com.tw'. Adding certificate verification is strongly advised. See: https://urllib3.readthedocs.io/en/1.26.x/advanced-usage.html#ssl-warnings\n",
      "  warnings.warn(\n"
     ]
    }
   ],
   "source": [
    "#varify是指是否有限制，例：是否滿18歲\n",
    "res = requests.get(urlfirst, verify=False)"
   ]
  },
  {
   "cell_type": "code",
   "execution_count": 8,
   "id": "17eaa46f",
   "metadata": {},
   "outputs": [
    {
     "data": {
      "text/plain": [
       "<Response [200]>"
      ]
     },
     "execution_count": 8,
     "metadata": {},
     "output_type": "execute_result"
    }
   ],
   "source": [
    "#確定內容有回傳回來\n",
    "#res2-- SUCCESS\n",
    "res"
   ]
  },
  {
   "cell_type": "code",
   "execution_count": 9,
   "id": "f4b43598",
   "metadata": {},
   "outputs": [
    {
     "data": {
      "text/plain": [
       "{'page': 1,\n",
       " 'records': 141009,\n",
       " 'rows': [{'caseNum': '99,行專訴,63',\n",
       "   'caseType': 'A',\n",
       "   'content': '智慧財產法院行政判決\\r\\n\\u3000\\u3000\\u3000\\u3000\\u3000\\u3000\\u3000\\u3000\\u3000\\u3000\\u3000\\u3000\\u3000\\u3000\\u3000\\u3000\\u3000\\u300099年度行專訴字第63號\\r\\n\\u3000\\u3000\\u3000\\u3000\\u3000\\u3000\\u3000\\u3000\\u3000\\u3000\\u3000\\u3000\\u3000\\u3000\\u3000\\u3000民國99年8月12日辯論終結\\r\\n原\\u3000\\u3000\\u3000告\\u3000技嘉科技股份有限公司\\r\\n法定代理人\\u3000...',\n",
       "   'court': '',\n",
       "   'identifier': 'IPCA,99,行專訴,63,20100830,2-529b6d6f-4f1d-4a6f-ae20-09dcc2e8810d',\n",
       "   'issue': '有關專利權事務',\n",
       "   'jtype': 'J',\n",
       "   'judgeDate': '2010/08/30',\n",
       "   'litigant': None,\n",
       "   'tags': None,\n",
       "   'title': 'IPCA,99,行專訴,63,20100830,2-529b6d6f-4f1d-4a6f-ae20-09dcc2e8810d',\n",
       "   'type': '行政判決'},\n",
       "  {'caseNum': '101,判,238',\n",
       "   'caseType': 'A',\n",
       "   'content': '最\\u3000高\\u3000行\\u3000政\\u3000法\\u3000院\\u3000判\\u3000決\\r\\n                                      101年度判字第238號\\r\\n上  訴  人\\u3000曾任成\\r\\n訴訟代理人\\u3000高山峰\\r\\n       ...',\n",
       "   'court': '',\n",
       "   'identifier': 'TPAA,101,判,238,20120308,1-7daae9ad-f348-4aa5-98c4-8a433508115f',\n",
       "   'issue': '發明專利舉發',\n",
       "   'jtype': 'J',\n",
       "   'judgeDate': '2012/03/08',\n",
       "   'litigant': None,\n",
       "   'tags': None,\n",
       "   'title': 'TPAA,101,判,238,20120308,1-7daae9ad-f348-4aa5-98c4-8a433508115f',\n",
       "   'type': '行政判決'},\n",
       "  {'caseNum': '99,智,20',\n",
       "   'caseType': 'V',\n",
       "   'content': '臺灣臺北地方法院民事判決\\u3000\\u3000\\u3000\\u3000\\u3000\\u3000\\u3000\\u300099年度智字第20號\\r\\n原\\u3000\\u3000\\u3000告\\u3000葉東峰\\r\\n訴訟代理人\\u3000王瀅雅律師\\r\\n被\\u3000\\u3000\\u3000告\\u3000蔡坤龍\\r\\n訴訟代理人\\u3000盧俊誠律師\\r\\n上列當事人間請求返還不當得利等事件，本院...',\n",
       "   'court': '',\n",
       "   'identifier': 'TPDV,99,智,20,20101207,1-d2a05a50-5043-4532-99ce-de42f14f1450',\n",
       "   'issue': '返還不當得利等',\n",
       "   'jtype': 'J',\n",
       "   'judgeDate': '2010/12/07',\n",
       "   'litigant': None,\n",
       "   'tags': None,\n",
       "   'title': 'TPDV,99,智,20,20101207,1-d2a05a50-5043-4532-99ce-de42f14f1450',\n",
       "   'type': '民事判決'},\n",
       "  {'caseNum': '100,行專訴,54',\n",
       "   'caseType': 'A',\n",
       "   'content': '智慧財產法院行政判決\\r\\n                                   100年度行專訴字第54號\\r\\n                                民國100年...',\n",
       "   'court': '',\n",
       "   'identifier': 'IPCA,100,行專訴,54,20111013,3-67c5b694-2822-498b-b42c-a6cb021604ba',\n",
       "   'issue': '發明專利舉發',\n",
       "   'jtype': 'J',\n",
       "   'judgeDate': '2011/10/13',\n",
       "   'litigant': None,\n",
       "   'tags': None,\n",
       "   'title': 'IPCA,100,行專訴,54,20111013,3-67c5b694-2822-498b-b42c-a6cb021604ba',\n",
       "   'type': '行政判決'},\n",
       "  {'caseNum': '103,民專訴,10',\n",
       "   'caseType': 'V',\n",
       "   'content': '智慧財產法院民事判決\\n103年度民專訴字第10號\\n原告宏正自動科技股份有限公司\\n法定代理人陳尚仲\\n訴訟代理人吳上晃律師\\n被告佑霖科技股份有限公司\\n法定代理人關秉炎\\n訴訟代理人陳尹章律師\\n複代理人黃亞蘋...',\n",
       "   'court': '',\n",
       "   'identifier': 'IPCV,103,民專訴,10,20150415,1-4c6a6b73-0177-4445-9223-41956542551e',\n",
       "   'issue': '使用專利權權利金',\n",
       "   'jtype': 'J',\n",
       "   'judgeDate': '2015/04/15',\n",
       "   'litigant': None,\n",
       "   'tags': None,\n",
       "   'title': 'IPCV,103,民專訴,10,20150415,1-4c6a6b73-0177-4445-9223-41956542551e',\n",
       "   'type': '民事判決'},\n",
       "  {'caseNum': '97,易,971',\n",
       "   'caseType': 'M',\n",
       "   'content': '臺灣板橋地方法院刑事判決\\u3000\\u3000\\u3000\\u3000\\u3000\\u3000\\u3000 97年度易字第971號\\r\\n公\\u3000訴\\u3000人\\u3000臺灣板橋地方法院檢察署檢察官\\r\\n被\\u3000\\u3000\\u3000告\\u3000乙○○\\r\\n\\u3000\\u3000\\u3000\\u3000\\u3000\\u3000丙○○\\r\\n右二人共同\\r\\n選任辯護人\\u3000高奕驤\\u3000律師\\r\\n\\u3000\\u3000...',\n",
       "   'court': '',\n",
       "   'identifier': 'PCDM,97,易,971,20090630,1-727ed3ff-dc25-4014-b8c6-4eb778f09b4b',\n",
       "   'issue': '詐欺',\n",
       "   'jtype': 'J',\n",
       "   'judgeDate': '2009/06/30',\n",
       "   'litigant': None,\n",
       "   'tags': None,\n",
       "   'title': 'PCDM,97,易,971,20090630,1-727ed3ff-dc25-4014-b8c6-4eb778f09b4b',\n",
       "   'type': '刑事判決'},\n",
       "  {'caseNum': '99,民專訴,161',\n",
       "   'caseType': 'V',\n",
       "   'content': '智慧財產法院民事判決\\r\\n                                   99年度民專訴字第161號\\r\\n原\\u3000\\u3000\\u3000告\\u3000歐陽傑\\u3000\\u3000\\u3000\\r\\n          \\u3000歐陽偉\\u3000\\u3000\\u3000\\r\\n被    ...',\n",
       "   'court': '',\n",
       "   'identifier': 'IPCV,99,民專訴,161,20110428,2-b20e5e9d-1d8e-4847-8519-e291d30a8c95',\n",
       "   'issue': '侵害專利權有關財產權爭議',\n",
       "   'jtype': 'J',\n",
       "   'judgeDate': '2011/04/28',\n",
       "   'litigant': None,\n",
       "   'tags': None,\n",
       "   'title': 'IPCV,99,民專訴,161,20110428,2-b20e5e9d-1d8e-4847-8519-e291d30a8c95',\n",
       "   'type': '民事判決'},\n",
       "  {'caseNum': '89,裁,1198',\n",
       "   'caseType': 'A',\n",
       "   'content': '最\\u3000高\\u3000行\\u3000政\\u3000法\\u3000院\\u3000裁\\u3000定\\u3000\\u3000\\u3000\\u3000\\u3000\\u3000\\u3000\\u3000\\u3000八十九年度裁字第一一九八號\\r\\n\\u3000\\u3000抗\\u3000告\\u3000人\\u3000陽明陶藝企業有限公司\\r\\n\\u3000\\u3000代\\u3000表\\u3000人\\u3000乙○○\\r\\n\\u3000\\u3000相\\u3000對\\u3000人\\u3000經濟部智慧財產局\\r\\n\\u3000\\u3000代\\u3000表\\u3000人\\u3000甲○...',\n",
       "   'court': '',\n",
       "   'identifier': 'TPAA,89,裁,1198,20000921,1-b0a83dec-b370-4c54-b01a-07c4486b19a2',\n",
       "   'issue': '發明專利舉發',\n",
       "   'jtype': 'R',\n",
       "   'judgeDate': '2000/09/21',\n",
       "   'litigant': None,\n",
       "   'tags': None,\n",
       "   'title': 'TPAA,89,裁,1198,20000921,1-b0a83dec-b370-4c54-b01a-07c4486b19a2',\n",
       "   'type': '行政裁定'},\n",
       "  {'caseNum': '94,智,24',\n",
       "   'caseType': 'V',\n",
       "   'content': '臺灣臺中地方法院民事判決\\u300094年度智字第24號\\r\\n原\\u3000\\u3000\\u3000告\\u3000乙○○\\r\\n訴訟代理人\\u3000甲○○律師\\r\\n被\\u3000\\u3000\\u3000告\\u3000丙○○\\r\\n當事人間請求賠償因專利權受侵害所生損害事件，本院於民國94\\r\\n年10月11日言詞...',\n",
       "   'court': '',\n",
       "   'identifier': 'TCDV,94,智,24,20051028,1-e49bbbd3-ef46-4838-90ef-d294c4d6dfc2',\n",
       "   'issue': '損害賠償（專利權）',\n",
       "   'jtype': 'J',\n",
       "   'judgeDate': '2005/10/28',\n",
       "   'litigant': None,\n",
       "   'tags': None,\n",
       "   'title': 'TCDV,94,智,24,20051028,1-e49bbbd3-ef46-4838-90ef-d294c4d6dfc2',\n",
       "   'type': '民事判決'},\n",
       "  {'caseNum': '95,判,424',\n",
       "   'caseType': 'A',\n",
       "   'content': '最\\u3000高\\u3000行\\u3000政\\u3000法\\u3000院\\u3000判\\u3000決\\r\\n\\u3000\\u3000\\u3000\\u3000\\u3000\\u3000\\u3000\\u3000\\u3000\\u3000\\u3000\\u3000\\u3000\\u3000\\u3000\\u3000\\u3000\\u3000 95年度判字第00424號\\r\\n上\\u3000訴\\u3000人\\u3000甲○○\\r\\n被 上訴 人\\u3000經濟部智慧財產局\\r\\n代\\u3000表\\u3000人\\u3000乙○○\\r\\n被 上訴 人\\u3000乙○○...',\n",
       "   'court': '',\n",
       "   'identifier': 'TPAA,95,判,424,20060330,1-d8cd899e-3008-4dde-982f-cb5da91a8486',\n",
       "   'issue': '有關專利事務',\n",
       "   'jtype': 'J',\n",
       "   'judgeDate': '2006/03/30',\n",
       "   'litigant': None,\n",
       "   'tags': None,\n",
       "   'title': 'TPAA,95,判,424,20060330,1-d8cd899e-3008-4dde-982f-cb5da91a8486',\n",
       "   'type': '行政判決'}],\n",
       " 'total': 14101,\n",
       " 'userdata': {'series': [{'name': '2021', 'y': 4205},\n",
       "   {'name': '2020', 'y': 12028},\n",
       "   {'name': '2019', 'y': 14654},\n",
       "   {'name': '2018', 'y': 10445},\n",
       "   {'name': '2017', 'y': 9771},\n",
       "   {'name': '2016', 'y': 9098},\n",
       "   {'name': '2015', 'y': 8130},\n",
       "   {'name': '2014', 'y': 8278},\n",
       "   {'name': '2013', 'y': 7794},\n",
       "   {'name': '2012', 'y': 7313},\n",
       "   {'name': '2011', 'y': 6870},\n",
       "   {'name': '2010', 'y': 5667},\n",
       "   {'name': '2009', 'y': 4787},\n",
       "   {'name': '2008', 'y': 4296},\n",
       "   {'name': '2007', 'y': 4183},\n",
       "   {'name': '2006', 'y': 3734},\n",
       "   {'name': '2005', 'y': 3023},\n",
       "   {'name': '2004', 'y': 3092},\n",
       "   {'name': '2003', 'y': 3474},\n",
       "   {'name': '2002', 'y': 3188},\n",
       "   {'name': '2001', 'y': 2787},\n",
       "   {'name': '2000', 'y': 2103},\n",
       "   {'name': '1999', 'y': 1573},\n",
       "   {'name': '1998', 'y': 516}],\n",
       "  'categories': ['2021',\n",
       "   '2020',\n",
       "   '2019',\n",
       "   '2018',\n",
       "   '2017',\n",
       "   '2016',\n",
       "   '2015',\n",
       "   '2014',\n",
       "   '2013',\n",
       "   '2012',\n",
       "   '2011',\n",
       "   '2010',\n",
       "   '2009',\n",
       "   '2008',\n",
       "   '2007',\n",
       "   '2006',\n",
       "   '2005',\n",
       "   '2004',\n",
       "   '2003',\n",
       "   '2002',\n",
       "   '2001',\n",
       "   '2000',\n",
       "   '1999',\n",
       "   '1998']}}"
      ]
     },
     "execution_count": 9,
     "metadata": {},
     "output_type": "execute_result"
    }
   ],
   "source": [
    "data=json.loads(res.text)\n",
    "data"
   ]
  },
  {
   "cell_type": "code",
   "execution_count": null,
   "id": "25d78018",
   "metadata": {},
   "outputs": [],
   "source": []
  },
  {
   "cell_type": "code",
   "execution_count": null,
   "id": "47b2d40f",
   "metadata": {},
   "outputs": [],
   "source": []
  }
 ],
 "metadata": {
  "kernelspec": {
   "display_name": "Python 3 (ipykernel)",
   "language": "python",
   "name": "python3"
  },
  "language_info": {
   "codemirror_mode": {
    "name": "ipython",
    "version": 3
   },
   "file_extension": ".py",
   "mimetype": "text/x-python",
   "name": "python",
   "nbconvert_exporter": "python",
   "pygments_lexer": "ipython3",
   "version": "3.10.9"
  }
 },
 "nbformat": 4,
 "nbformat_minor": 5
}
