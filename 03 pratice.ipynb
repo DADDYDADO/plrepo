{
 "cells": [
  {
   "cell_type": "code",
   "execution_count": 16,
   "metadata": {},
   "outputs": [
    {
     "data": {
      "text/plain": [
       "dict"
      ]
     },
     "execution_count": 16,
     "metadata": {},
     "output_type": "execute_result"
    }
   ],
   "source": [
    "import json\n",
    "test = open('01.json',encoding=\"utf8\")\n",
    "Data = json.load(test)\n",
    "type(Data)"
   ]
  },
  {
   "cell_type": "code",
   "execution_count": 15,
   "metadata": {},
   "outputs": [
    {
     "data": {
      "text/plain": [
       "dict_items([('result', [{'年度': 2022, '地區別': '宜蘭縣', '月投保薪資等級': 25250, '投保人數': 82681}, {'年度': 2022, '地區別': '宜蘭縣', '月投保薪資等級': 26400, '投保人數': 3470}, {'年度': 2022, '地區別': '宜蘭縣', '月投保薪資等級': 27600, '投保人數': 4415}, {'年度': 2022, '地區別': '宜蘭縣', '月投保薪資等級': 28800, '投保人數': 3755}, {'年度': 2022, '地區別': '宜蘭縣', '月投保薪資等級': 30300, '投保人數': 7071}, {'年度': 2022, '地區別': '宜蘭縣', '月投保薪資等級': 30300, '投保人數': 7071}, {'年度': 2022, '地區別': '宜蘭縣', '月投保薪資等級': 33300, '投保人數': 4102}, {'年度': 2022, '地區別': '宜蘭縣', '月投保薪資等級': 34800, '投保人數': 5246}])])"
      ]
     },
     "execution_count": 15,
     "metadata": {},
     "output_type": "execute_result"
    }
   ],
   "source": [
    "#這是一筆投保資料其中幾項，每一筆皆有年度，地區別，月投保薪資等級，投保人數等項目\n",
    "Data.items()"
   ]
  },
  {
   "cell_type": "code",
   "execution_count": 5,
   "metadata": {},
   "outputs": [],
   "source": [
    "temp = Data.get(\"result\")"
   ]
  },
  {
   "cell_type": "code",
   "execution_count": 6,
   "metadata": {},
   "outputs": [
    {
     "data": {
      "text/plain": [
       "[{'年度': 2022, '地區別': '宜蘭縣', '月投保薪資等級': 25250, '投保人數': 82681},\n",
       " {'年度': 2022, '地區別': '宜蘭縣', '月投保薪資等級': 26400, '投保人數': 3470},\n",
       " {'年度': 2022, '地區別': '宜蘭縣', '月投保薪資等級': 27600, '投保人數': 4415},\n",
       " {'年度': 2022, '地區別': '宜蘭縣', '月投保薪資等級': 28800, '投保人數': 3755},\n",
       " {'年度': 2022, '地區別': '宜蘭縣', '月投保薪資等級': 30300, '投保人數': 7071},\n",
       " {'年度': 2022, '地區別': '宜蘭縣', '月投保薪資等級': 30300, '投保人數': 7071},\n",
       " {'年度': 2022, '地區別': '宜蘭縣', '月投保薪資等級': 33300, '投保人數': 4102},\n",
       " {'年度': 2022, '地區別': '宜蘭縣', '月投保薪資等級': 34800, '投保人數': 5246}]"
      ]
     },
     "execution_count": 6,
     "metadata": {},
     "output_type": "execute_result"
    }
   ],
   "source": [
    "#temp暫時文件夾\n",
    "temp"
   ]
  },
  {
   "cell_type": "code",
   "execution_count": 22,
   "metadata": {},
   "outputs": [],
   "source": [
    "#查詢月投保薪資等級(25250)\n",
    "ask=25250"
   ]
  },
  {
   "cell_type": "code",
   "execution_count": 26,
   "metadata": {},
   "outputs": [
    {
     "name": "stdout",
     "output_type": "stream",
     "text": [
      "2022宜蘭縣 月投保薪資等級 25250 投保人數 82681\n"
     ]
    }
   ],
   "source": [
    "for i in temp:\n",
    "  if ask == i.get(\"月投保薪資等級\"):\n",
    "     print(\"2022宜蘭縣\",\"月投保薪資等級\",ask,\"投保人數\",i.get(\"投保人數\"))"
   ]
  },
  {
   "cell_type": "code",
   "execution_count": 33,
   "metadata": {},
   "outputs": [
    {
     "name": "stdout",
     "output_type": "stream",
     "text": [
      "2022宜蘭縣 月投保薪資等級 30300 投保人數 7071\n",
      "2022宜蘭縣 月投保薪資等級 30300 投保人數 7071\n"
     ]
    }
   ],
   "source": [
    "#查詢月投保薪資等級(30300)\n",
    "ask=30300\n",
    "for j in temp:\n",
    "    if ask == j.get(\"月投保薪資等級\"):\n",
    "        print(\"2022宜蘭縣\",\"月投保薪資等級\",ask,\"投保人數\",j.get(\"投保人數\"))"
   ]
  },
  {
   "cell_type": "code",
   "execution_count": 32,
   "metadata": {},
   "outputs": [
    {
     "name": "stdout",
     "output_type": "stream",
     "text": [
      "2022宜蘭縣 月投保薪資等級 34800 投保人數 5246\n"
     ]
    }
   ],
   "source": [
    "#查詢月投保薪資等級(34800)\n",
    "ask=34800\n",
    "for w in temp:\n",
    "    if ask == w.get(\"月投保薪資等級\"):\n",
    "        print(\"2022宜蘭縣\",\"月投保薪資等級\",ask,\"投保人數\",w.get(\"投保人數\"))"
   ]
  },
  {
   "cell_type": "code",
   "execution_count": null,
   "metadata": {},
   "outputs": [],
   "source": []
  }
 ],
 "metadata": {
  "kernelspec": {
   "display_name": "Python 3",
   "language": "python",
   "name": "python3"
  },
  "language_info": {
   "codemirror_mode": {
    "name": "ipython",
    "version": 3
   },
   "file_extension": ".py",
   "mimetype": "text/x-python",
   "name": "python",
   "nbconvert_exporter": "python",
   "pygments_lexer": "ipython3",
   "version": "3.8.5"
  }
 },
 "nbformat": 4,
 "nbformat_minor": 4
}
