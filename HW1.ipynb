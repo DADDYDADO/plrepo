{
 "cells": [
  {
   "cell_type": "code",
   "execution_count": 3,
   "metadata": {},
   "outputs": [],
   "source": [
    "import pandas as pd\n",
    "songs = pd.read_csv(\"Streams.csv\")"
   ]
  },
  {
   "cell_type": "code",
   "execution_count": 5,
   "metadata": {},
   "outputs": [
    {
     "data": {
      "text/html": [
       "<div>\n",
       "<style scoped>\n",
       "    .dataframe tbody tr th:only-of-type {\n",
       "        vertical-align: middle;\n",
       "    }\n",
       "\n",
       "    .dataframe tbody tr th {\n",
       "        vertical-align: top;\n",
       "    }\n",
       "\n",
       "    .dataframe thead th {\n",
       "        text-align: right;\n",
       "    }\n",
       "</style>\n",
       "<table border=\"1\" class=\"dataframe\">\n",
       "  <thead>\n",
       "    <tr style=\"text-align: right;\">\n",
       "      <th></th>\n",
       "      <th>Song</th>\n",
       "      <th>Artist</th>\n",
       "      <th>Streams (Billions)</th>\n",
       "      <th>Release Date</th>\n",
       "    </tr>\n",
       "  </thead>\n",
       "  <tbody>\n",
       "    <tr>\n",
       "      <th>95</th>\n",
       "      <td>7 Years</td>\n",
       "      <td>Lukas Graham</td>\n",
       "      <td>1.529</td>\n",
       "      <td>16-Jun-15</td>\n",
       "    </tr>\n",
       "    <tr>\n",
       "      <th>96</th>\n",
       "      <td>Yellow</td>\n",
       "      <td>Coldplay</td>\n",
       "      <td>1.527</td>\n",
       "      <td>26-Jun-00</td>\n",
       "    </tr>\n",
       "    <tr>\n",
       "      <th>97</th>\n",
       "      <td>Sugar</td>\n",
       "      <td>Maroon 5</td>\n",
       "      <td>1.524</td>\n",
       "      <td>29-Aug-14</td>\n",
       "    </tr>\n",
       "    <tr>\n",
       "      <th>98</th>\n",
       "      <td>Despacito</td>\n",
       "      <td>Luis Fonsi featuring Daddy Yankee</td>\n",
       "      <td>1.522</td>\n",
       "      <td>12-Jan-17</td>\n",
       "    </tr>\n",
       "    <tr>\n",
       "      <th>99</th>\n",
       "      <td>Don't Stop Me Now</td>\n",
       "      <td>Queen</td>\n",
       "      <td>1.521</td>\n",
       "      <td>26-Jan-79</td>\n",
       "    </tr>\n",
       "  </tbody>\n",
       "</table>\n",
       "</div>"
      ],
      "text/plain": [
       "                 Song                             Artist  Streams (Billions)  \\\n",
       "95            7 Years                       Lukas Graham               1.529   \n",
       "96             Yellow                           Coldplay               1.527   \n",
       "97              Sugar                           Maroon 5               1.524   \n",
       "98          Despacito  Luis Fonsi featuring Daddy Yankee               1.522   \n",
       "99  Don't Stop Me Now                              Queen               1.521   \n",
       "\n",
       "   Release Date  \n",
       "95    16-Jun-15  \n",
       "96    26-Jun-00  \n",
       "97    29-Aug-14  \n",
       "98    12-Jan-17  \n",
       "99    26-Jan-79  "
      ]
     },
     "execution_count": 5,
     "metadata": {},
     "output_type": "execute_result"
    }
   ],
   "source": [
    "# the last five songs of the list\n",
    "songs.tail()"
   ]
  },
  {
   "cell_type": "code",
   "execution_count": 8,
   "metadata": {},
   "outputs": [
    {
     "name": "stdout",
     "output_type": "stream",
     "text": [
      "The amounts of songs on the list: 100\n"
     ]
    }
   ],
   "source": [
    "# How many songs are on the list\n",
    "streams = list(songs['Streams (Billions)'])\n",
    "print(\"The amounts of songs on the list:\", len(songs))"
   ]
  },
  {
   "cell_type": "code",
   "execution_count": 9,
   "metadata": {},
   "outputs": [],
   "source": [
    "import pandas as pd\n",
    "features = pd.read_csv(\"Features.csv\")"
   ]
  },
  {
   "cell_type": "code",
   "execution_count": 10,
   "metadata": {},
   "outputs": [
    {
     "data": {
      "text/html": [
       "<div>\n",
       "<style scoped>\n",
       "    .dataframe tbody tr th:only-of-type {\n",
       "        vertical-align: middle;\n",
       "    }\n",
       "\n",
       "    .dataframe tbody tr th {\n",
       "        vertical-align: top;\n",
       "    }\n",
       "\n",
       "    .dataframe thead th {\n",
       "        text-align: right;\n",
       "    }\n",
       "</style>\n",
       "<table border=\"1\" class=\"dataframe\">\n",
       "  <thead>\n",
       "    <tr style=\"text-align: right;\">\n",
       "      <th></th>\n",
       "      <th>id</th>\n",
       "      <th>name</th>\n",
       "      <th>duration</th>\n",
       "      <th>energy</th>\n",
       "      <th>key</th>\n",
       "      <th>loudness</th>\n",
       "      <th>mode</th>\n",
       "      <th>speechiness</th>\n",
       "      <th>acousticness</th>\n",
       "      <th>instrumentalness</th>\n",
       "      <th>liveness</th>\n",
       "      <th>valence</th>\n",
       "      <th>tempo</th>\n",
       "      <th>danceability</th>\n",
       "    </tr>\n",
       "  </thead>\n",
       "  <tbody>\n",
       "    <tr>\n",
       "      <th>0</th>\n",
       "      <td>0VjIjW4GlUZAMYd2vXMi3b</td>\n",
       "      <td>Blinding Lights</td>\n",
       "      <td>3.33</td>\n",
       "      <td>0.730</td>\n",
       "      <td>1</td>\n",
       "      <td>-5.934</td>\n",
       "      <td>1</td>\n",
       "      <td>0.0598</td>\n",
       "      <td>0.00146</td>\n",
       "      <td>0.000095</td>\n",
       "      <td>0.0897</td>\n",
       "      <td>0.334</td>\n",
       "      <td>171.005</td>\n",
       "      <td>0.514</td>\n",
       "    </tr>\n",
       "    <tr>\n",
       "      <th>1</th>\n",
       "      <td>7qiZfU4dY1lWllzX7mPBI3</td>\n",
       "      <td>Shape of You</td>\n",
       "      <td>3.90</td>\n",
       "      <td>0.652</td>\n",
       "      <td>1</td>\n",
       "      <td>-3.183</td>\n",
       "      <td>0</td>\n",
       "      <td>0.0802</td>\n",
       "      <td>0.58100</td>\n",
       "      <td>0.000000</td>\n",
       "      <td>0.0931</td>\n",
       "      <td>0.931</td>\n",
       "      <td>95.977</td>\n",
       "      <td>0.825</td>\n",
       "    </tr>\n",
       "    <tr>\n",
       "      <th>2</th>\n",
       "      <td>2XU0oxnq2qxCpomAAuJY8K</td>\n",
       "      <td>Dance Monkey</td>\n",
       "      <td>3.49</td>\n",
       "      <td>0.588</td>\n",
       "      <td>6</td>\n",
       "      <td>-6.400</td>\n",
       "      <td>0</td>\n",
       "      <td>0.0924</td>\n",
       "      <td>0.69200</td>\n",
       "      <td>0.000104</td>\n",
       "      <td>0.1490</td>\n",
       "      <td>0.513</td>\n",
       "      <td>98.027</td>\n",
       "      <td>0.824</td>\n",
       "    </tr>\n",
       "    <tr>\n",
       "      <th>3</th>\n",
       "      <td>7qEHsqek33rTcFNT9PFqLf</td>\n",
       "      <td>Someone You Loved</td>\n",
       "      <td>3.04</td>\n",
       "      <td>0.405</td>\n",
       "      <td>1</td>\n",
       "      <td>-5.679</td>\n",
       "      <td>1</td>\n",
       "      <td>0.0319</td>\n",
       "      <td>0.75100</td>\n",
       "      <td>0.000000</td>\n",
       "      <td>0.1050</td>\n",
       "      <td>0.446</td>\n",
       "      <td>109.891</td>\n",
       "      <td>0.501</td>\n",
       "    </tr>\n",
       "    <tr>\n",
       "      <th>4</th>\n",
       "      <td>0e7ipj03S05BNilyu5bRzt</td>\n",
       "      <td>Rockstar</td>\n",
       "      <td>3.64</td>\n",
       "      <td>0.520</td>\n",
       "      <td>5</td>\n",
       "      <td>-6.136</td>\n",
       "      <td>0</td>\n",
       "      <td>0.0712</td>\n",
       "      <td>0.12400</td>\n",
       "      <td>0.000070</td>\n",
       "      <td>0.1310</td>\n",
       "      <td>0.129</td>\n",
       "      <td>159.801</td>\n",
       "      <td>0.585</td>\n",
       "    </tr>\n",
       "    <tr>\n",
       "      <th>...</th>\n",
       "      <td>...</td>\n",
       "      <td>...</td>\n",
       "      <td>...</td>\n",
       "      <td>...</td>\n",
       "      <td>...</td>\n",
       "      <td>...</td>\n",
       "      <td>...</td>\n",
       "      <td>...</td>\n",
       "      <td>...</td>\n",
       "      <td>...</td>\n",
       "      <td>...</td>\n",
       "      <td>...</td>\n",
       "      <td>...</td>\n",
       "      <td>...</td>\n",
       "    </tr>\n",
       "    <tr>\n",
       "      <th>95</th>\n",
       "      <td>5kqIPrATaCc2LqxVWzQGbk</td>\n",
       "      <td>7 Years</td>\n",
       "      <td>3.96</td>\n",
       "      <td>0.473</td>\n",
       "      <td>10</td>\n",
       "      <td>-5.829</td>\n",
       "      <td>1</td>\n",
       "      <td>0.0514</td>\n",
       "      <td>0.28700</td>\n",
       "      <td>0.000000</td>\n",
       "      <td>0.3910</td>\n",
       "      <td>0.340</td>\n",
       "      <td>119.992</td>\n",
       "      <td>0.765</td>\n",
       "    </tr>\n",
       "    <tr>\n",
       "      <th>96</th>\n",
       "      <td>3AJwUDP919kvQ9QcozQPxg</td>\n",
       "      <td>Yellow</td>\n",
       "      <td>4.45</td>\n",
       "      <td>0.661</td>\n",
       "      <td>11</td>\n",
       "      <td>-7.227</td>\n",
       "      <td>1</td>\n",
       "      <td>0.0281</td>\n",
       "      <td>0.00239</td>\n",
       "      <td>0.000121</td>\n",
       "      <td>0.2340</td>\n",
       "      <td>0.285</td>\n",
       "      <td>173.372</td>\n",
       "      <td>0.429</td>\n",
       "    </tr>\n",
       "    <tr>\n",
       "      <th>97</th>\n",
       "      <td>6UelLqGlWMcVH1E5c4H7lY</td>\n",
       "      <td>Sugar</td>\n",
       "      <td>2.90</td>\n",
       "      <td>0.816</td>\n",
       "      <td>0</td>\n",
       "      <td>-4.209</td>\n",
       "      <td>1</td>\n",
       "      <td>0.0465</td>\n",
       "      <td>0.12200</td>\n",
       "      <td>0.000000</td>\n",
       "      <td>0.3350</td>\n",
       "      <td>0.557</td>\n",
       "      <td>95.390</td>\n",
       "      <td>0.548</td>\n",
       "    </tr>\n",
       "    <tr>\n",
       "      <th>98</th>\n",
       "      <td>6habFhsOp2NvshLv26DqMb</td>\n",
       "      <td>Despacito</td>\n",
       "      <td>3.82</td>\n",
       "      <td>0.797</td>\n",
       "      <td>2</td>\n",
       "      <td>-4.787</td>\n",
       "      <td>1</td>\n",
       "      <td>0.1530</td>\n",
       "      <td>0.19800</td>\n",
       "      <td>0.000000</td>\n",
       "      <td>0.0670</td>\n",
       "      <td>0.839</td>\n",
       "      <td>177.928</td>\n",
       "      <td>0.655</td>\n",
       "    </tr>\n",
       "    <tr>\n",
       "      <th>99</th>\n",
       "      <td>6XdYD0hrNIOHb0emKC3l9U</td>\n",
       "      <td>Don't Stop Me Now</td>\n",
       "      <td>7.05</td>\n",
       "      <td>0.553</td>\n",
       "      <td>5</td>\n",
       "      <td>-5.510</td>\n",
       "      <td>1</td>\n",
       "      <td>0.0773</td>\n",
       "      <td>0.71000</td>\n",
       "      <td>0.000000</td>\n",
       "      <td>0.1010</td>\n",
       "      <td>0.419</td>\n",
       "      <td>112.603</td>\n",
       "      <td>0.471</td>\n",
       "    </tr>\n",
       "  </tbody>\n",
       "</table>\n",
       "<p>100 rows × 14 columns</p>\n",
       "</div>"
      ],
      "text/plain": [
       "                        id               name  duration  energy  key  \\\n",
       "0   0VjIjW4GlUZAMYd2vXMi3b    Blinding Lights      3.33   0.730    1   \n",
       "1   7qiZfU4dY1lWllzX7mPBI3       Shape of You      3.90   0.652    1   \n",
       "2   2XU0oxnq2qxCpomAAuJY8K       Dance Monkey      3.49   0.588    6   \n",
       "3   7qEHsqek33rTcFNT9PFqLf  Someone You Loved      3.04   0.405    1   \n",
       "4   0e7ipj03S05BNilyu5bRzt           Rockstar      3.64   0.520    5   \n",
       "..                     ...                ...       ...     ...  ...   \n",
       "95  5kqIPrATaCc2LqxVWzQGbk            7 Years      3.96   0.473   10   \n",
       "96  3AJwUDP919kvQ9QcozQPxg             Yellow      4.45   0.661   11   \n",
       "97  6UelLqGlWMcVH1E5c4H7lY              Sugar      2.90   0.816    0   \n",
       "98  6habFhsOp2NvshLv26DqMb          Despacito      3.82   0.797    2   \n",
       "99  6XdYD0hrNIOHb0emKC3l9U  Don't Stop Me Now      7.05   0.553    5   \n",
       "\n",
       "    loudness  mode  speechiness  acousticness  instrumentalness  liveness  \\\n",
       "0     -5.934     1       0.0598       0.00146          0.000095    0.0897   \n",
       "1     -3.183     0       0.0802       0.58100          0.000000    0.0931   \n",
       "2     -6.400     0       0.0924       0.69200          0.000104    0.1490   \n",
       "3     -5.679     1       0.0319       0.75100          0.000000    0.1050   \n",
       "4     -6.136     0       0.0712       0.12400          0.000070    0.1310   \n",
       "..       ...   ...          ...           ...               ...       ...   \n",
       "95    -5.829     1       0.0514       0.28700          0.000000    0.3910   \n",
       "96    -7.227     1       0.0281       0.00239          0.000121    0.2340   \n",
       "97    -4.209     1       0.0465       0.12200          0.000000    0.3350   \n",
       "98    -4.787     1       0.1530       0.19800          0.000000    0.0670   \n",
       "99    -5.510     1       0.0773       0.71000          0.000000    0.1010   \n",
       "\n",
       "    valence    tempo  danceability  \n",
       "0     0.334  171.005         0.514  \n",
       "1     0.931   95.977         0.825  \n",
       "2     0.513   98.027         0.824  \n",
       "3     0.446  109.891         0.501  \n",
       "4     0.129  159.801         0.585  \n",
       "..      ...      ...           ...  \n",
       "95    0.340  119.992         0.765  \n",
       "96    0.285  173.372         0.429  \n",
       "97    0.557   95.390         0.548  \n",
       "98    0.839  177.928         0.655  \n",
       "99    0.419  112.603         0.471  \n",
       "\n",
       "[100 rows x 14 columns]"
      ]
     },
     "execution_count": 10,
     "metadata": {},
     "output_type": "execute_result"
    }
   ],
   "source": [
    "features"
   ]
  },
  {
   "cell_type": "code",
   "execution_count": 12,
   "metadata": {},
   "outputs": [
    {
     "name": "stdout",
     "output_type": "stream",
     "text": [
      "    duration\n",
      "0       3.33\n",
      "1       3.90\n",
      "2       3.49\n",
      "3       3.04\n",
      "4       3.64\n",
      "..       ...\n",
      "95      3.96\n",
      "96      4.45\n",
      "97      2.90\n",
      "98      3.82\n",
      "99      7.05\n",
      "\n",
      "[100 rows x 1 columns]\n",
      "    duration\n",
      "16      4.69\n",
      "23      5.91\n",
      "33      4.88\n",
      "48      5.21\n",
      "62      4.84\n",
      "64      5.44\n",
      "78      4.54\n",
      "84      4.88\n",
      "87      4.96\n",
      "91      5.03\n",
      "99      7.05\n"
     ]
    }
   ],
   "source": [
    "# list songs' duration\n",
    "applys1=pd.DataFrame(features[\"duration\"])\n",
    "print(applys1)\n",
    "# list songs which duration over 4.5 mins\n",
    "a1=pd.DataFrame(applys1[applys1[\"duration\"]>4.5])\n",
    "print(a1)"
   ]
  },
  {
   "cell_type": "code",
   "execution_count": 16,
   "metadata": {},
   "outputs": [
    {
     "name": "stdout",
     "output_type": "stream",
     "text": [
      "    danceability\n",
      "0          0.514\n",
      "1          0.825\n",
      "2          0.824\n",
      "3          0.501\n",
      "4          0.585\n",
      "..           ...\n",
      "95         0.765\n",
      "96         0.429\n",
      "97         0.548\n",
      "98         0.655\n",
      "99         0.471\n",
      "\n",
      "[100 rows x 1 columns]\n",
      "    danceability\n",
      "1          0.825\n",
      "2          0.824\n",
      "35         0.841\n",
      "36         0.872\n",
      "45         0.908\n",
      "48         0.834\n",
      "62         0.908\n",
      "68         0.856\n",
      "82         0.921\n",
      "85         0.853\n",
      "86         0.896\n",
      "88         0.866\n"
     ]
    }
   ],
   "source": [
    "# list songs' danceability\n",
    "applys2=pd.DataFrame(features[\"danceability\"])\n",
    "print(applys2)\n",
    "# list songs which danceability over 0.7\n",
    "a2=pd.DataFrame(applys2[applys2[\"danceability\"]>0.8])\n",
    "print(a2)"
   ]
  },
  {
   "cell_type": "code",
   "execution_count": 18,
   "metadata": {},
   "outputs": [
    {
     "name": "stdout",
     "output_type": "stream",
     "text": [
      "{64, 33, 99, 78, 16, 48, 84, 87, 23, 91, 62}\n",
      "{1, 2, 35, 36, 68, 45, 48, 82, 85, 86, 88, 62}\n"
     ]
    }
   ],
   "source": [
    "# print(s1&s2)\n",
    "id1=set(a1.index)\n",
    "print(id1)\n",
    "id2=set(a2.index)\n",
    "print(id2)"
   ]
  },
  {
   "cell_type": "code",
   "execution_count": 19,
   "metadata": {},
   "outputs": [
    {
     "name": "stdout",
     "output_type": "stream",
     "text": [
      "{48, 62}\n"
     ]
    }
   ],
   "source": [
    "# the song that duration over 4.5 also danceability over 0.8\n",
    "# the number of the song as the result\n",
    "print(id1&id2)"
   ]
  },
  {
   "cell_type": "code",
   "execution_count": 20,
   "metadata": {},
   "outputs": [
    {
     "name": "stdout",
     "output_type": "stream",
     "text": [
      "{64, 1, 2, 68, 78, 16, 82, 84, 85, 86, 87, 23, 88, 91, 33, 99, 35, 36, 45, 48, 62}\n"
     ]
    }
   ],
   "source": [
    "# the song that at least reach duration 4.5 or danceability 0.8\n",
    "# the number of the song as the result\n",
    "print(id1|id2)"
   ]
  },
  {
   "cell_type": "code",
   "execution_count": 22,
   "metadata": {},
   "outputs": [
    {
     "name": "stdout",
     "output_type": "stream",
     "text": [
      "{64, 33, 99, 78, 16, 84, 23, 87, 91}\n"
     ]
    }
   ],
   "source": [
    "# the song that only reach duration 4.5 \n",
    "# the number of the song as the result\n",
    "print(id1-id2)"
   ]
  },
  {
   "cell_type": "code",
   "execution_count": 23,
   "metadata": {},
   "outputs": [
    {
     "name": "stdout",
     "output_type": "stream",
     "text": [
      "{1, 2, 35, 36, 68, 45, 82, 85, 86, 88}\n"
     ]
    }
   ],
   "source": [
    "# the song that only reach danceability 0.8\n",
    "# the number of the song as the result\n",
    "print(id2-id1)"
   ]
  },
  {
   "cell_type": "code",
   "execution_count": 24,
   "metadata": {},
   "outputs": [
    {
     "name": "stdout",
     "output_type": "stream",
     "text": [
      "{1, 2, 16, 23, 33, 35, 36, 45, 64, 68, 78, 82, 84, 85, 86, 87, 88, 91, 99}\n"
     ]
    }
   ],
   "source": [
    "# the song that only reach duration 4.5 or danceability 0.8\n",
    "print(id1^id2)"
   ]
  },
  {
   "cell_type": "code",
   "execution_count": null,
   "metadata": {},
   "outputs": [],
   "source": []
  }
 ],
 "metadata": {
  "kernelspec": {
   "display_name": "Python 3",
   "language": "python",
   "name": "python3"
  },
  "language_info": {
   "codemirror_mode": {
    "name": "ipython",
    "version": 3
   },
   "file_extension": ".py",
   "mimetype": "text/x-python",
   "name": "python",
   "nbconvert_exporter": "python",
   "pygments_lexer": "ipython3",
   "version": "3.8.5"
  }
 },
 "nbformat": 4,
 "nbformat_minor": 4
}
