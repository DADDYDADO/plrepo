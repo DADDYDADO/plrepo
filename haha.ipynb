{
 "cells": [
  {
   "cell_type": "code",
   "execution_count": 3,
   "metadata": {},
   "outputs": [],
   "source": [
    "#request送請求\n",
    "#sleep是為了不佔用，避免網址ip被阻擋\n",
    "import requests\n",
    "import json\n",
    "import time\n",
    "from time import sleep\n",
    "import pandas as pd"
   ]
  },
  {
   "cell_type": "code",
   "execution_count": 5,
   "metadata": {},
   "outputs": [],
   "source": [
    "#裁判家網址：https://www.lawplus.com.tw/\n",
    "#關鍵字：全文搜索：(發明專利無效)+二審判決\n",
    "#URL:https://www.lawplus.com.tw/#/searchReport?query=%25E7%2599%25BC%25E6%2598%258E%25E5%25B0%2588%25E5%2588%25A9%25E7%2584%25A1%25E6%2595%2588&levels=2&litigant=經濟部智慧財產局"
   ]
  },
  {
   "cell_type": "code",
   "execution_count": 15,
   "metadata": {},
   "outputs": [
    {
     "data": {
      "text/plain": [
       "'https://www.lawplus.com.tw/rest/search/report?querySentence=(%25E7%2599%25BC%25E6%2598%258E%25E5%25B0%2588%25E5%2588%25A9%25E7%2584%25A1%25E6%2595%2588&levels=2&litigant=經濟部智慧財產局&page='"
      ]
     },
     "execution_count": 15,
     "metadata": {},
     "output_type": "execute_result"
    }
   ],
   "source": [
    "urlfirst=\"https://www.lawplus.com.tw/rest/search/report?querySentence=發明專利無效\"\n",
    "urlfirst"
   ]
  },
  {
   "cell_type": "code",
   "execution_count": 19,
   "metadata": {},
   "outputs": [
    {
     "data": {
      "text/plain": [
       "'https://www.lawplus.com.tw/rest/search/report?querySentence=(%25E7%2599%25BC%25E6%2598%258E%25E5%25B0%2588%25E5%2588%25A9%25E7%2584%25A1%25E6%2595%2588&levels=2&litigant=經濟部智慧財產局&page=2)'"
      ]
     },
     "execution_count": 19,
     "metadata": {},
     "output_type": "execute_result"
    }
   ],
   "source": [
    "#到第？頁數\n",
    "#&page=\n",
    "page=\"2\"\n",
    "link=urlfirst+page+')' \n",
    "link"
   ]
  },
  {
   "cell_type": "code",
   "execution_count": 17,
   "metadata": {},
   "outputs": [
    {
     "name": "stderr",
     "output_type": "stream",
     "text": [
      "/Users/yangshikuan/opt/anaconda3/lib/python3.8/site-packages/urllib3/connectionpool.py:981: InsecureRequestWarning: Unverified HTTPS request is being made to host 'www.lawplus.com.tw'. Adding certificate verification is strongly advised. See: https://urllib3.readthedocs.io/en/latest/advanced-usage.html#ssl-warnings\n",
      "  warnings.warn(\n"
     ]
    }
   ],
   "source": [
    "#varify是指是否有限制，例：是否滿18歲\n",
    "res = requests.get(link, verify=False)"
   ]
  },
  {
   "cell_type": "code",
   "execution_count": 18,
   "metadata": {},
   "outputs": [
    {
     "data": {
      "text/plain": [
       "<Response [500]>"
      ]
     },
     "execution_count": 18,
     "metadata": {},
     "output_type": "execute_result"
    }
   ],
   "source": [
    "#確定內容有回傳回來\n",
    "#res2-- SUCCESS\n",
    "res"
   ]
  },
  {
   "cell_type": "code",
   "execution_count": null,
   "metadata": {},
   "outputs": [],
   "source": [
    "data=json.loads(res.text)\n",
    "data"
   ]
  }
 ],
 "metadata": {
  "kernelspec": {
   "display_name": "Python 3",
   "language": "python",
   "name": "python3"
  },
  "language_info": {
   "codemirror_mode": {
    "name": "ipython",
    "version": 3
   },
   "file_extension": ".py",
   "mimetype": "text/x-python",
   "name": "python",
   "nbconvert_exporter": "python",
   "pygments_lexer": "ipython3",
   "version": "3.8.5"
  }
 },
 "nbformat": 4,
 "nbformat_minor": 4
}
